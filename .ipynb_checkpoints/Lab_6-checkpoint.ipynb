{
 "cells": [
  {
   "cell_type": "markdown",
   "id": "b749b9eb-75b7-4acd-9440-ae53ab517a50",
   "metadata": {},
   "source": [
    "[Return to Main Page](index.html)"
   ]
  },
  {
   "cell_type": "markdown",
   "id": "24cc26ae-4b02-49af-b1be-fd8aadfd0a2a",
   "metadata": {},
   "source": [
    "# Lab 5"
   ]
  },
  {
   "cell_type": "markdown",
   "id": "04d2d418-bec7-4619-b112-707cf21aa021",
   "metadata": {},
   "source": [
    "## Objective"
   ]
  },
  {
   "cell_type": "markdown",
   "id": "5c5a137c-e2a9-42ad-b873-815cb8ec9de0",
   "metadata": {},
   "source": [
    "Lab 6 continued PID. In Lab 5, PID control was used to control distance from the wall using data from our Time of Flight (TOF) sensors. In Lab 6, we used the same principles to control orientation based on a yaw angle measurement. As a 5000-level student, I was responsible for completing this task using a PI or PID controller."
   ]
  },
  {
   "cell_type": "markdown",
   "id": "a88cbf4f-db86-468c-a6e4-6c309b014da9",
   "metadata": {},
   "source": [
    "# Prelab"
   ]
  },
  {
   "cell_type": "markdown",
   "id": "0e3f7e1e-911f-486c-92f7-9d2f3a7af4e4",
   "metadata": {},
   "source": [
    "Using a similar approach to lab 5, I am able to send my PID parameters as well as my minimum and maximum PWM values over Bluetooth. This approach allows me to quickly experiment with different values, making the tuning process faster and more efficient. In Python, I call my PID command and send five values: Kp, Ki, Kd, PWM_MIN, and PWM_MAX. "
   ]
  },
  {
   "cell_type": "markdown",
   "id": "2a6d720a-900a-483a-a47b-3d33203e834e",
   "metadata": {},
   "source": [
    "```python\n",
    "ble.send_command(CMD.PID, \"0.01|0.0000008|0.0007|100|200\")\n",
    "```"
   ]
  },
  {
   "cell_type": "markdown",
   "id": "0cc46514-399d-4939-bd3c-5b6be64fdb12",
   "metadata": {},
   "source": [
    "These Bluetooth commands are unpacked and assigned to the globally defined variables in Arduino. Once the variable assignment is complete, it toggles a flag, which prompts PID to run for 5 seconds in a loop."
   ]
  },
  {
   "cell_type": "markdown",
   "id": "0c6a89f9-d590-40a2-97c7-d883a3643c1e",
   "metadata": {},
   "source": [
    "```python\n",
    "       case PID:\n",
    "           success = robot_cmd.get_next_value(Kp);\n",
    "           if (!success) return;\n",
    "\n",
    "\n",
    "           success = robot_cmd.get_next_value(Ki);\n",
    "           if (!success) return;\n",
    "\n",
    "\n",
    "           success = robot_cmd.get_next_value(Kd);\n",
    "           if (!success) return;\n",
    "\n",
    "\n",
    "           success = robot_cmd.get_next_value(PWM_MIN);\n",
    "           if (!success) return;\n",
    "\n",
    "\n",
    "           success = robot_cmd.get_next_value(PWM_MAX);\n",
    "           if (!success) return;\n",
    "\n",
    "\n",
    "           PID_flag = true;\n",
    "           break;\n",
    "```"
   ]
  },
  {
   "cell_type": "markdown",
   "id": "c56ba7fc-7f7e-484f-9e53-7a3a7f6ad67f",
   "metadata": {},
   "source": [
    "## Digital Motion Processor (DMP)"
   ]
  },
  {
   "cell_type": "markdown",
   "id": "f3e91d41-2dbf-4379-a4b1-afd03fe9fc22",
   "metadata": {},
   "source": [
    "As we explored in lab 2, although gyroscope data is low in noise, there is a reasonable amount of drift. With this being the case, using gyro data to compute yaw angles would cause issues over time as the measured yaw drifts. One way to address this issue is utilizing the onboard digital motion processor (DMP) to mitigate this drift. The DMP module uses sensor fusion of the accelerometer, gyroscope, and magnetometer to minimize noise and drift. I initialize the DMP using this code:"
   ]
  },
  {
   "cell_type": "markdown",
   "id": "c22efd2a-aeb7-4698-8b44-6d888868600e",
   "metadata": {},
   "source": [
    "```python\n",
    "void setup() {\n",
    "   Serial.begin(115200);\n",
    "   Wire.end();\n",
    "   delay(500);\n",
    "   Wire.begin();\n",
    "   bool initialized = false;\n",
    "   while (!initialized) {\n",
    "       myICM.begin(WIRE_PORT, AD0_VAL);\n",
    "       if (myICM.status == ICM_20948_Stat_Ok) {\n",
    "           initialized = true;\n",
    "       } else {\n",
    "           SERIAL_PORT.println(\"Retrying ICM-20948 initialization...\");\n",
    "           delay(500);\n",
    "       }\n",
    "   }\n",
    "\n",
    "   bool dmpSuccess = true;\n",
    "   dmpSuccess &= (myICM.initializeDMP() == ICM_20948_Stat_Ok);\n",
    "   dmpSuccess &= (myICM.enableDMPSensor(INV_ICM20948_SENSOR_ORIENTATION) == ICM_20948_Stat_Ok);\n",
    "   dmpSuccess &= (myICM.setDMPODRrate(DMP_ODR_Reg_Quat9, 2) == ICM_20948_Stat_Ok);\n",
    "   dmpSuccess &= (myICM.enableFIFO() == ICM_20948_Stat_Ok);\n",
    "   dmpSuccess &= (myICM.enableDMP() == ICM_20948_Stat_Ok);\n",
    "   dmpSuccess &= (myICM.resetDMP() == ICM_20948_Stat_Ok);\n",
    "   dmpSuccess &= (myICM.resetFIFO() == ICM_20948_Stat_Ok);\n",
    "   if (!dmpSuccess) {\n",
    "       Serial.println(\"DMP initialization failed!\");\n",
    "       while (1) { } // Halt if DMP fails to initialize.\n",
    "   } else {\n",
    "       Serial.println(\"DMP initialized successfully!\");\n",
    "   }\n",
    "\t\n",
    "\t# Initialize TOF\n",
    "\n",
    "\n",
    "    # Initialize BLE\n",
    "}\n",
    "\n",
    "```"
   ]
  },
  {
   "cell_type": "markdown",
   "id": "62a37552-38ee-4acb-8444-6eb81f89bcd1",
   "metadata": {},
   "source": [
    "In my loop I’m then able to get yaw values using this code:"
   ]
  },
  {
   "cell_type": "markdown",
   "id": "766db32c-f984-49de-a8ee-062bfe25fce9",
   "metadata": {},
   "source": [
    "```python\n",
    "icm_20948_DMP_data_t dmpData;\n",
    "myICM.readDMPdataFromFIFO(&dmpData);\n",
    "if ((myICM.status == ICM_20948_Stat_Ok) || (myICM.status == ICM_20948_Stat_FIFOMoreDataAvail)) {\n",
    "   if ((dmpData.header & DMP_header_bitmap_Quat9) > 0) {\n",
    "       // Convert quaternion components from fixed point (scaled by 2^30)\n",
    "       double q1 = ((double)dmpData.Quat9.Data.Q1) / 1073741824.0;\n",
    "       double q2 = ((double)dmpData.Quat9.Data.Q2) / 1073741824.0;\n",
    "       double q3 = ((double)dmpData.Quat9.Data.Q3) / 1073741824.0;\n",
    "       double q0 = sqrt(1.0 - ((q1 * q1) + (q2 * q2) + (q3 * q3)));\n",
    "       // Compute current yaw (in radians) from quaternion.\n",
    "       double yaw = atan2(2.0 * (q0 * -q3 + q1 * q2),\n",
    "                          1.0 - 2.0 * ((q1 * q1) + (q3 * q3)));\n",
    "       // Convert yaw to degrees\n",
    "       double current_yaw_deg = yaw * 180.0 / M_PI;\n",
    "\n",
    "```"
   ]
  },
  {
   "cell_type": "markdown",
   "id": "949fab68-098a-4220-857e-15fafcdce4a4",
   "metadata": {},
   "source": [
    "The DMP returns quaternion components which need to be converted to Euler angles which I did using the code in the example. The DMP uses a FIFO, which is read via I2C. When I initialized my DMP, I had the output rate set to its maximum, and I got nan when retrieving the data. It resolved this issue when I slowed the sample rate to ~10Hz. The FIFO has a size of 512 bytes, meaning it may fill up if it is not read fast enough. To prevent this, I ensure that it is being sampled as fast as possible by minimizing the amount of computation and printing between reads. From the datasheet it states that the gyroscope has a programmable FSR of up to +/-2000 dps which should be sufficient for our use cases. I believe that the value passed in to myICM.enableDMPSensor will inform the maximum dps based on the configurations associated with the setting however I don’t believe we can configure it manually while using the DMP."
   ]
  },
  {
   "cell_type": "markdown",
   "id": "8c4acb3b-01e6-4fe8-b432-6f2c7865ea26",
   "metadata": {},
   "source": [
    "## Derivative Discussion"
   ]
  },
  {
   "cell_type": "markdown",
   "id": "67ac12e8-3dc0-48dc-87f3-94cd3781c0fc",
   "metadata": {},
   "source": [
    "Generally speaking, it doesn’t make sense to take the derivative of a signal that is the integral of another signal. If we were using raw gyro data, we could effectively get the derivative by taking the raw value returned by the gyro instead of integrating it to get position and then taking the derivative to get speed. However, in our case, we are not using gyro data; we are using DMP data, which is partially informed by the gyro. Since we don’t receive data as angular speed, we must take the derivative to include the D term in our PID. If the setpoint suddenly changes, this can cause a sudden jump in the derivative term, which is a derivative kick. To help mitigate this, the derivative term can be filtered to mitigate the influence of these sudden changes. In my implementation, I chose not to filter the derivative term because it didn’t seem necessary. "
   ]
  },
  {
   "cell_type": "markdown",
   "id": "c14c609d-c7fd-436a-87f6-0484d4fe2da1",
   "metadata": {},
   "source": [
    "# P Control"
   ]
  },
  {
   "cell_type": "markdown",
   "id": "959926b4-7587-4aa4-8c98-1798d855e318",
   "metadata": {},
   "source": [
    "The first step in this lab was calibrating motor rotation. It took a larger PWM value to get the motors to spin backward than forwards, so I needed to adjust the scaling factors for both rotation directions. Once I could rotate with minimal movement, I began implementing P control. I wanted to analyze how my car performed when changing setpoints. I adjusted my overall PID to run for 6 seconds. The initial setpoint was 0 degrees; after 2 seconds, it would switch to 90 degrees. My initial approach was based on several assumptions, which yielded bad results. The first assumption was that the DMP would immediately start providing good data. In my starting implementation, I observed erratic behavior. When analyzing my error plot, I noticed that the initial DMP values did not accurately reflect the actual position. To address this, before beginning PID, I read DMP values for 2 seconds and discard the data, giving the data a chance to stabilize before using it to inform my PID control. The second assumption was that if my car had been stationary following stabilization, the DMP data would have zeroed around that position. Once I added data stabilization, I still observed a noticeable initial correction upon PID start. When I analyzed the DMP data, I noticed that the stabilized data would settle at +/-10 degrees. To zero around the initial position, I took the first yaw value returned by the DMP and used it as an offset to zero my angular measurement. "
   ]
  },
  {
   "cell_type": "markdown",
   "id": "4bffc19a-0525-408f-953d-04969ca21716",
   "metadata": {},
   "source": [
    "```python\n",
    "void loop() {\n",
    "   BLEDevice central = BLE.central();\n",
    "   if (central) {\n",
    "       Serial.print(\"Connected to: \");\n",
    "       Serial.println(central.address());\n",
    "       while (central.connected()) {\n",
    "           write_data();\n",
    "           read_data();\n",
    "\n",
    "\n",
    "           if (PID_flag) {\n",
    "               # Wait 2 seconds before starting PID control\n",
    "               unsigned long stabilizationStart = millis();\n",
    "               while (millis() - stabilizationStart < 2000) {\n",
    "                   icm_20948_DMP_data_t dummyData;\n",
    "                   myICM.readDMPdataFromFIFO(&dummyData);\n",
    "               }\n",
    "              \n",
    "               bool yaw_offset_set = false;\n",
    "               double yaw_offset_deg = 0.0;\n",
    "               start_time_1 = millis();\n",
    "               while (millis() - start_time_1 < 10000 && PID_flag && central.connected()) {\n",
    "                   icm_20948_DMP_data_t dmpData;\n",
    "                   myICM.readDMPdataFromFIFO(&dmpData);\n",
    "                   if ((myICM.status == ICM_20948_Stat_Ok) || (myICM.status == ICM_20948_Stat_FIFOMoreDataAvail)) {\n",
    "                       if ((dmpData.header & DMP_header_bitmap_Quat9) > 0) {\n",
    "                           double q1 = ((double)dmpData.Quat9.Data.Q1) / 1073741824.0;\n",
    "                           double q2 = ((double)dmpData.Quat9.Data.Q2) / 1073741824.0;\n",
    "                           double q3 = ((double)dmpData.Quat9.Data.Q3) / 1073741824.0;\n",
    "                           double q0 = sqrt(1.0 - ((q1 * q1) + (q2 * q2) + (q3 * q3)));\n",
    "                           double yaw = atan2(2.0 * (q0 * -q3 + q1 * q2),\n",
    "                                              1.0 - 2.0 * ((q1 * q1) + (q3 * q3)));\n",
    "                           double current_yaw_deg = yaw * 180.0 / M_PI;\n",
    "                           \n",
    "                           # get inital yaw measurement and use it as offset\n",
    "                           if (!yaw_offset_set) {\n",
    "                               yaw_offset_deg = current_yaw_deg;\n",
    "                               yaw_offset_set = true;\n",
    "                           }\n",
    "                          \n",
    "                           double yaw_deg = current_yaw_deg - yaw_offset_deg;\n",
    "\n",
    "                           # Change set point after 2 seconds\n",
    "                           unsigned long pid_elapsed = millis() - start_time_1;\n",
    "                           double setpoint = (pid_elapsed < 2000) ? 0.0 : 90.0;\n",
    "                           double error = yaw_deg - setpoint;\n",
    "\n",
    "\n",
    "                           unsigned long now = millis();\n",
    "                           double dt = (now - last_time) / 1000.0;\n",
    "                           if (dt <= 0) dt = 0.001;\n",
    "                           if (dt > 1) dt = 0.00001;\n",
    "                           last_time = now;\n",
    "\n",
    "\n",
    "                           integral += error * dt;\n",
    "                           if (dt == 0.00001){\n",
    "                             derivative = 0;\n",
    "                           }\n",
    "                           else{\n",
    "                             derivative = (error - last_error) / dt;\n",
    "                           }\n",
    "                           last_error = error;\n",
    "                          \n",
    "                           double pid_output = Kp * error + Ki * integral + Kd * derivative;\n",
    "                           double pid_pwm = PWM_MIN + pid_output;\n",
    "\n",
    "\n",
    "                           pid_pwm = constrain(pid_pwm, PWM_MIN, PWM_MAX);\n",
    "                           int pwmValue = (int)pid_pwm;\n",
    "\n",
    "\n",
    "                           yaws[index_1] = yaw_deg;\n",
    "                           errors[index_1] = error;\n",
    "                           time_stamps[index_1] = now;\n",
    "\n",
    "\n",
    "                           if (pid_output >= 0) {\n",
    "                               ### Spin car left ###\n",
    "                           } else {\n",
    "                               ### Spin car right ###\n",
    "                           }\n",
    "                           index_1++;\n",
    "                       }\n",
    "                   }\n",
    "               }\n",
    "\n",
    "\n",
    "               analogWrite(AIN1, 0);\n",
    "               analogWrite(AIN2, 0);\n",
    "               analogWrite(BIN1, 0);\n",
    "               analogWrite(BIN2, 0);\n",
    "\n",
    "               ### Transmit Data ###\n",
    "\n",
    "\n",
    "               PID_flag = false;\n",
    "               index_1 = 0;\n",
    "           }\n",
    "       }\n",
    "   }\n",
    "}\n",
    "\n",
    "```"
   ]
  }
 ],
 "metadata": {
  "kernelspec": {
   "display_name": "Python [conda env:base] *",
   "language": "python",
   "name": "conda-base-py"
  },
  "language_info": {
   "codemirror_mode": {
    "name": "ipython",
    "version": 3
   },
   "file_extension": ".py",
   "mimetype": "text/x-python",
   "name": "python",
   "nbconvert_exporter": "python",
   "pygments_lexer": "ipython3",
   "version": "3.12.7"
  }
 },
 "nbformat": 4,
 "nbformat_minor": 5
}
